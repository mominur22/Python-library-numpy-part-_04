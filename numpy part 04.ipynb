{
 "cells": [
  {
   "cell_type": "markdown",
   "id": "ff3bc7f2",
   "metadata": {},
   "source": [
    "# Manipulating array shapes\n"
   ]
  },
  {
   "cell_type": "markdown",
   "id": "c1e102f6",
   "metadata": {},
   "source": [
    "1.reshape()<br>\n",
    "2.resize()<br>\n",
    "3.flatten()<br>\n",
    "4.revel()<br>\n",
    "5.defining array shape()<br>"
   ]
  },
  {
   "cell_type": "markdown",
   "id": "3f7bf4c2",
   "metadata": {},
   "source": [
    "# reshape()"
   ]
  },
  {
   "cell_type": "code",
   "execution_count": 2,
   "id": "17fa9f81",
   "metadata": {},
   "outputs": [],
   "source": [
    "import numpy as np\n",
    "a=np.array([[1,2,3],\n",
    "           [4,5,6]])\n"
   ]
  },
  {
   "cell_type": "code",
   "execution_count": 3,
   "id": "f2f7aea1",
   "metadata": {},
   "outputs": [
    {
     "data": {
      "text/plain": [
       "array([[1, 2, 3],\n",
       "       [4, 5, 6]])"
      ]
     },
     "execution_count": 3,
     "metadata": {},
     "output_type": "execute_result"
    }
   ],
   "source": [
    "a"
   ]
  },
  {
   "cell_type": "code",
   "execution_count": 4,
   "id": "f7ff689f",
   "metadata": {},
   "outputs": [
    {
     "data": {
      "text/plain": [
       "(2, 3)"
      ]
     },
     "execution_count": 4,
     "metadata": {},
     "output_type": "execute_result"
    }
   ],
   "source": [
    "a.shape"
   ]
  },
  {
   "cell_type": "code",
   "execution_count": 5,
   "id": "6d354bb8",
   "metadata": {},
   "outputs": [],
   "source": [
    "a_reshaped=np.reshape(a,(3,2))\n"
   ]
  },
  {
   "cell_type": "code",
   "execution_count": 6,
   "id": "ca9d502d",
   "metadata": {},
   "outputs": [
    {
     "data": {
      "text/plain": [
       "array([[1, 2],\n",
       "       [3, 4],\n",
       "       [5, 6]])"
      ]
     },
     "execution_count": 6,
     "metadata": {},
     "output_type": "execute_result"
    }
   ],
   "source": [
    "a_reshaped"
   ]
  },
  {
   "cell_type": "code",
   "execution_count": 7,
   "id": "c116dff7",
   "metadata": {},
   "outputs": [
    {
     "data": {
      "text/plain": [
       "(3, 2)"
      ]
     },
     "execution_count": 7,
     "metadata": {},
     "output_type": "execute_result"
    }
   ],
   "source": [
    "a_reshaped.shape"
   ]
  },
  {
   "cell_type": "code",
   "execution_count": 8,
   "id": "664c11bb",
   "metadata": {},
   "outputs": [
    {
     "data": {
      "text/plain": [
       "array([[1, 2],\n",
       "       [3, 4],\n",
       "       [5, 6]])"
      ]
     },
     "execution_count": 8,
     "metadata": {},
     "output_type": "execute_result"
    }
   ],
   "source": [
    "a_reshaped"
   ]
  },
  {
   "cell_type": "code",
   "execution_count": null,
   "id": "aa2419bf",
   "metadata": {},
   "outputs": [],
   "source": []
  }
 ],
 "metadata": {
  "kernelspec": {
   "display_name": "Python 3 (ipykernel)",
   "language": "python",
   "name": "python3"
  },
  "language_info": {
   "codemirror_mode": {
    "name": "ipython",
    "version": 3
   },
   "file_extension": ".py",
   "mimetype": "text/x-python",
   "name": "python",
   "nbconvert_exporter": "python",
   "pygments_lexer": "ipython3",
   "version": "3.11.5"
  }
 },
 "nbformat": 4,
 "nbformat_minor": 5
}
